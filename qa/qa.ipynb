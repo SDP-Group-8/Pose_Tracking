{
 "cells": [
  {
   "cell_type": "code",
   "execution_count": 11,
   "metadata": {},
   "outputs": [],
   "source": [
    "import numpy as np # linear algebra\n",
    "import pandas as pd\n",
    "import xml.etree.ElementTree as ET\n",
    "from pose_estimation.keypoints import Keypoints\n",
    "from mediapipe.tasks.python.components.containers.landmark import NormalizedLandmark"
   ]
  },
  {
   "cell_type": "code",
   "execution_count": 18,
   "metadata": {},
   "outputs": [],
   "source": [
    "# Read XML File\n",
    "xml_file = 'dataset/annotations.xml'\n",
    "tree = ET.parse(xml_file)\n",
    "root = tree.getroot()\n",
    "\n",
    "dataset = {}\n",
    "\n",
    "# Keypoint mapping from dataset numbers in annotations.xml to body part names used in Keypoints\n",
    "datasetKeypoints = {\n",
    "            5 : \"left_shoulder\",\n",
    "            2 : \"right_shoulder\",\n",
    "            6 : \"left_elbow\",\n",
    "            3 : \"right_elbow\",\n",
    "            7 : \"left_wrist\",\n",
    "            4 : \"right_wrist\",\n",
    "            11 : \"left_hip\",\n",
    "            8 : \"right_hip\",\n",
    "            12 : \"left_knee\",\n",
    "            9 : \"right_knee\",\n",
    "            13 : \"left_ankle\",\n",
    "            10 : \"right_ankle\"\n",
    "        }\n",
    "\n",
    "images = root.findall(\"image\")\n",
    "for image in images:\n",
    "    points = image.findall(\"points\")\n",
    "    keypoints = Keypoints(0, 0, 0, 0, 0 ,0 ,0 ,0 ,0 ,0 ,0 ,0, 0)\n",
    "    for point in points:\n",
    "        point_id = int(point.attrib[\"label\"])\n",
    "        x, y = point.attrib[\"points\"].split(\",\")\n",
    "        if point_id in datasetKeypoints:\n",
    "            setattr(keypoints, datasetKeypoints[point_id], NormalizedLandmark(x=float(x), y=float(y)))\n",
    "    dataset.update({image.attrib[\"name\"]: keypoints})\n",
    "\n",
    "'''\n",
    "Created a dictionary to store keypoints.\n",
    "Format: {image_name: Keypoints}\n",
    "Keypoints is our own Keypoints object.\n",
    "'''"
   ]
  },
  {
   "cell_type": "code",
   "execution_count": 33,
   "metadata": {},
   "outputs": [
    {
     "ename": "AttributeError",
     "evalue": "'FieldDescriptor' object has no attribute '_default_constructor'",
     "output_type": "error",
     "traceback": [
      "\u001b[0;31m---------------------------------------------------------------------------\u001b[0m",
      "\u001b[0;31mAttributeError\u001b[0m                            Traceback (most recent call last)",
      "Cell \u001b[0;32mIn[33], line 9\u001b[0m\n\u001b[1;32m      6\u001b[0m \u001b[38;5;28;01mfrom\u001b[39;00m \u001b[38;5;21;01mmediapipe\u001b[39;00m\u001b[38;5;21;01m.\u001b[39;00m\u001b[38;5;21;01mtasks\u001b[39;00m\u001b[38;5;21;01m.\u001b[39;00m\u001b[38;5;21;01mpython\u001b[39;00m \u001b[38;5;28;01mimport\u001b[39;00m vision\n\u001b[1;32m      8\u001b[0m media_pipe \u001b[38;5;241m=\u001b[39m MediaPipe()\n\u001b[0;32m----> 9\u001b[0m \u001b[43mmedia_pipe\u001b[49m\u001b[38;5;241;43m.\u001b[39;49m\u001b[43minitialize\u001b[49m\u001b[43m(\u001b[49m\u001b[43mmode\u001b[49m\u001b[38;5;241;43m=\u001b[39;49m\u001b[43mvision\u001b[49m\u001b[38;5;241;43m.\u001b[39;49m\u001b[43mRunningMode\u001b[49m\u001b[38;5;241;43m.\u001b[39;49m\u001b[43mIMAGE\u001b[49m\u001b[43m,\u001b[49m\u001b[43m \u001b[49m\u001b[43mparameter_path\u001b[49m\u001b[38;5;241;43m=\u001b[39;49m\u001b[38;5;124;43m\"\u001b[39;49m\u001b[38;5;124;43m/Users/tom/repos/Pose_Tracking/pose_landmarker_full.task\u001b[39;49m\u001b[38;5;124;43m\"\u001b[39;49m\u001b[43m)\u001b[49m\n",
      "File \u001b[0;32m~/.pyenv/versions/3.11.7/envs/sdpQA/lib/python3.11/site-packages/pose_estimation/mediapipe.py:29\u001b[0m, in \u001b[0;36mMediaPipe.initialize\u001b[0;34m(self, parameter_path, mode)\u001b[0m\n\u001b[1;32m     23\u001b[0m options \u001b[38;5;241m=\u001b[39m vision\u001b[38;5;241m.\u001b[39mPoseLandmarkerOptions(\n\u001b[1;32m     24\u001b[0m     base_options \u001b[38;5;241m=\u001b[39m base_options,\n\u001b[1;32m     25\u001b[0m     output_segmentation_masks \u001b[38;5;241m=\u001b[39m \u001b[38;5;28;01mTrue\u001b[39;00m,\n\u001b[1;32m     26\u001b[0m     running_mode\u001b[38;5;241m=\u001b[39m mode)\n\u001b[1;32m     28\u001b[0m \u001b[38;5;66;03m# Create Landmarker\u001b[39;00m\n\u001b[0;32m---> 29\u001b[0m \u001b[38;5;28mself\u001b[39m\u001b[38;5;241m.\u001b[39mlandmarker \u001b[38;5;241m=\u001b[39m \u001b[43mvision\u001b[49m\u001b[38;5;241;43m.\u001b[39;49m\u001b[43mPoseLandmarker\u001b[49m\u001b[38;5;241;43m.\u001b[39;49m\u001b[43mcreate_from_options\u001b[49m\u001b[43m(\u001b[49m\u001b[43moptions\u001b[49m\u001b[43m)\u001b[49m\n",
      "File \u001b[0;32m~/.pyenv/versions/3.11.7/envs/sdpQA/lib/python3.11/site-packages/mediapipe/tasks/python/vision/pose_landmarker.py:320\u001b[0m, in \u001b[0;36mPoseLandmarker.create_from_options\u001b[0;34m(cls, options)\u001b[0m\n\u001b[1;32m    306\u001b[0m   output_streams\u001b[38;5;241m.\u001b[39mappend(\n\u001b[1;32m    307\u001b[0m       \u001b[38;5;124m'\u001b[39m\u001b[38;5;124m:\u001b[39m\u001b[38;5;124m'\u001b[39m\u001b[38;5;241m.\u001b[39mjoin([_SEGMENTATION_MASK_TAG, _SEGMENTATION_MASK_STREAM_NAME])\n\u001b[1;32m    308\u001b[0m   )\n\u001b[1;32m    310\u001b[0m task_info \u001b[38;5;241m=\u001b[39m _TaskInfo(\n\u001b[1;32m    311\u001b[0m     task_graph\u001b[38;5;241m=\u001b[39m_TASK_GRAPH_NAME,\n\u001b[1;32m    312\u001b[0m     input_streams\u001b[38;5;241m=\u001b[39m[\n\u001b[0;32m   (...)\u001b[0m\n\u001b[1;32m    317\u001b[0m     task_options\u001b[38;5;241m=\u001b[39moptions,\n\u001b[1;32m    318\u001b[0m )\n\u001b[1;32m    319\u001b[0m \u001b[38;5;28;01mreturn\u001b[39;00m \u001b[38;5;28mcls\u001b[39m(\n\u001b[0;32m--> 320\u001b[0m     \u001b[43mtask_info\u001b[49m\u001b[38;5;241;43m.\u001b[39;49m\u001b[43mgenerate_graph_config\u001b[49m\u001b[43m(\u001b[49m\n\u001b[1;32m    321\u001b[0m \u001b[43m        \u001b[49m\u001b[43menable_flow_limiting\u001b[49m\u001b[38;5;241;43m=\u001b[39;49m\u001b[43moptions\u001b[49m\u001b[38;5;241;43m.\u001b[39;49m\u001b[43mrunning_mode\u001b[49m\n\u001b[1;32m    322\u001b[0m \u001b[43m        \u001b[49m\u001b[38;5;241;43m==\u001b[39;49m\u001b[43m \u001b[49m\u001b[43m_RunningMode\u001b[49m\u001b[38;5;241;43m.\u001b[39;49m\u001b[43mLIVE_STREAM\u001b[49m\n\u001b[1;32m    323\u001b[0m \u001b[43m    \u001b[49m\u001b[43m)\u001b[49m,\n\u001b[1;32m    324\u001b[0m     options\u001b[38;5;241m.\u001b[39mrunning_mode,\n\u001b[1;32m    325\u001b[0m     packets_callback \u001b[38;5;28;01mif\u001b[39;00m options\u001b[38;5;241m.\u001b[39mresult_callback \u001b[38;5;28;01melse\u001b[39;00m \u001b[38;5;28;01mNone\u001b[39;00m,\n\u001b[1;32m    326\u001b[0m )\n",
      "File \u001b[0;32m~/.pyenv/versions/3.11.7/envs/sdpQA/lib/python3.11/site-packages/mediapipe/tasks/python/core/task_info.py:97\u001b[0m, in \u001b[0;36mTaskInfo.generate_graph_config\u001b[0;34m(self, enable_flow_limiting)\u001b[0m\n\u001b[1;32m     93\u001b[0m   task_subgraph_options \u001b[38;5;241m=\u001b[39m calculator_options_pb2\u001b[38;5;241m.\u001b[39mCalculatorOptions()\n\u001b[1;32m     94\u001b[0m   task_subgraph_options\u001b[38;5;241m.\u001b[39mExtensions[task_options_proto\u001b[38;5;241m.\u001b[39mext]\u001b[38;5;241m.\u001b[39mCopyFrom(\n\u001b[1;32m     95\u001b[0m       task_options_proto\n\u001b[1;32m     96\u001b[0m   )\n\u001b[0;32m---> 97\u001b[0m   \u001b[43mnode_config\u001b[49m\u001b[38;5;241;43m.\u001b[39;49m\u001b[43moptions\u001b[49m\u001b[38;5;241;43m.\u001b[39;49m\u001b[43mCopyFrom\u001b[49m\u001b[43m(\u001b[49m\u001b[43mtask_subgraph_options\u001b[49m\u001b[43m)\u001b[49m\n\u001b[1;32m     98\u001b[0m \u001b[38;5;28;01melse\u001b[39;00m:\n\u001b[1;32m     99\u001b[0m   \u001b[38;5;66;03m# Use the Any type for task_subgraph_options (proto3)\u001b[39;00m\n\u001b[1;32m    100\u001b[0m   task_subgraph_options \u001b[38;5;241m=\u001b[39m any_pb2\u001b[38;5;241m.\u001b[39mAny()\n",
      "File \u001b[0;32m~/.pyenv/versions/3.11.7/envs/sdpQA/lib/python3.11/site-packages/google/protobuf/message.py:129\u001b[0m, in \u001b[0;36mMessage.CopyFrom\u001b[0;34m(self, other_msg)\u001b[0m\n\u001b[1;32m    127\u001b[0m   \u001b[38;5;28;01mreturn\u001b[39;00m\n\u001b[1;32m    128\u001b[0m \u001b[38;5;28mself\u001b[39m\u001b[38;5;241m.\u001b[39mClear()\n\u001b[0;32m--> 129\u001b[0m \u001b[38;5;28;43mself\u001b[39;49m\u001b[38;5;241;43m.\u001b[39;49m\u001b[43mMergeFrom\u001b[49m\u001b[43m(\u001b[49m\u001b[43mother_msg\u001b[49m\u001b[43m)\u001b[49m\n",
      "File \u001b[0;32m~/.pyenv/versions/3.11.7/envs/sdpQA/lib/python3.11/site-packages/google/protobuf/internal/python_message.py:1334\u001b[0m, in \u001b[0;36m_AddMergeFromMethod.<locals>.MergeFrom\u001b[0;34m(self, msg)\u001b[0m\n\u001b[1;32m   1331\u001b[0m field_value \u001b[38;5;241m=\u001b[39m fields\u001b[38;5;241m.\u001b[39mget(field)\n\u001b[1;32m   1332\u001b[0m \u001b[38;5;28;01mif\u001b[39;00m field_value \u001b[38;5;129;01mis\u001b[39;00m \u001b[38;5;28;01mNone\u001b[39;00m:\n\u001b[1;32m   1333\u001b[0m   \u001b[38;5;66;03m# Construct a new object to represent this field.\u001b[39;00m\n\u001b[0;32m-> 1334\u001b[0m   field_value \u001b[38;5;241m=\u001b[39m \u001b[43mfield\u001b[49m\u001b[38;5;241;43m.\u001b[39;49m\u001b[43m_default_constructor\u001b[49m(\u001b[38;5;28mself\u001b[39m)\n\u001b[1;32m   1335\u001b[0m   fields[field] \u001b[38;5;241m=\u001b[39m field_value\n\u001b[1;32m   1336\u001b[0m field_value\u001b[38;5;241m.\u001b[39mMergeFrom(value)\n",
      "\u001b[0;31mAttributeError\u001b[0m: 'FieldDescriptor' object has no attribute '_default_constructor'"
     ]
    }
   ],
   "source": [
    "'''\n",
    "Setup Media Pipe\n",
    "'''\n",
    "import mediapipe as mp\n",
    "from pose_estimation.mediapipe import MediaPipe\n",
    "from mediapipe.tasks.python import vision\n",
    "\n",
    "media_pipe = MediaPipe()\n",
    "media_pipe.initialize(mode=vision.RunningMode.IMAGE, parameter_path=\"/Users/tom/repos/Pose_Tracking/pose_landmarker_full.task\")"
   ]
  },
  {
   "cell_type": "code",
   "execution_count": 30,
   "metadata": {},
   "outputs": [
    {
     "ename": "RuntimeError",
     "evalue": "Image decoding failed (can't fopen): PE/0.jpg",
     "output_type": "error",
     "traceback": [
      "\u001b[0;31m---------------------------------------------------------------------------\u001b[0m",
      "\u001b[0;31mRuntimeError\u001b[0m                              Traceback (most recent call last)",
      "Cell \u001b[0;32mIn[30], line 2\u001b[0m\n\u001b[1;32m      1\u001b[0m \u001b[38;5;28;01mfor\u001b[39;00m image \u001b[38;5;129;01min\u001b[39;00m dataset:\n\u001b[0;32m----> 2\u001b[0m     image \u001b[38;5;241m=\u001b[39m \u001b[43mmp\u001b[49m\u001b[38;5;241;43m.\u001b[39;49m\u001b[43mImage\u001b[49m\u001b[38;5;241;43m.\u001b[39;49m\u001b[43mcreate_from_file\u001b[49m\u001b[43m(\u001b[49m\u001b[43mimage\u001b[49m\u001b[43m)\u001b[49m\n\u001b[1;32m      3\u001b[0m     media_pipe\u001b[38;5;241m.\u001b[39mprocess_image(image)\n",
      "\u001b[0;31mRuntimeError\u001b[0m: Image decoding failed (can't fopen): PE/0.jpg"
     ]
    }
   ],
   "source": [
    "for image in dataset:\n",
    "    image = mp.Image.create_from_file(image)\n",
    "    media_pipe.process_image(image)"
   ]
  }
 ],
 "metadata": {
  "kernelspec": {
   "display_name": "sdpQA",
   "language": "python",
   "name": "python3"
  },
  "language_info": {
   "codemirror_mode": {
    "name": "ipython",
    "version": 3
   },
   "file_extension": ".py",
   "mimetype": "text/x-python",
   "name": "python",
   "nbconvert_exporter": "python",
   "pygments_lexer": "ipython3",
   "version": "3.11.7"
  }
 },
 "nbformat": 4,
 "nbformat_minor": 2
}
