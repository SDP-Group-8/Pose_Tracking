{
 "cells": [
  {
   "cell_type": "code",
   "execution_count": 2,
   "metadata": {},
   "outputs": [],
   "source": [
    "import numpy as np # linear algebra\n",
    "import pandas as pd\n",
    "import xml.etree.ElementTree as ET\n",
    "from pose_estimation.keypoints import Keypoints\n",
    "from pose_estimation.keypoint_statistics import KeypointStatistics\n",
    "from pose_estimation.scoring.angle_score import AngleScore\n",
    "from mediapipe.tasks.python.components.containers.landmark import Landmark\n",
    "import mediapipe as mp"
   ]
  },
  {
   "cell_type": "code",
   "execution_count": 90,
   "metadata": {},
   "outputs": [
    {
     "data": {
      "text/plain": [
       "'\\nCreated a dictionary to store keypoints.\\nFormat: {image_name: Keypoints}\\nKeypoints is our own Keypoints object.\\n'"
      ]
     },
     "execution_count": 90,
     "metadata": {},
     "output_type": "execute_result"
    }
   ],
   "source": [
    "# Read XML File\n",
    "xml_file = 'dataset/annotations.xml'\n",
    "tree = ET.parse(xml_file)\n",
    "root = tree.getroot()\n",
    "\n",
    "dataset = {}\n",
    "\n",
    "# Keypoint mapping from dataset numbers in annotations.xml to body part names used in Keypoints\n",
    "datasetKeypoints = {\n",
    "            5 : \"left_shoulder\",\n",
    "            2 : \"right_shoulder\",\n",
    "            6 : \"left_elbow\",\n",
    "            3 : \"right_elbow\",\n",
    "            7 : \"left_wrist\",\n",
    "            4 : \"right_wrist\",\n",
    "            11 : \"left_hip\",\n",
    "            8 : \"right_hip\",\n",
    "            12 : \"left_knee\",\n",
    "            9 : \"right_knee\",\n",
    "            13 : \"left_ankle\",\n",
    "            10 : \"right_ankle\"\n",
    "        }\n",
    "\n",
    "imageDimensions = {}\n",
    "\n",
    "images = root.findall(\"image\")\n",
    "\n",
    "for image in images:\n",
    "    points = image.findall(\"points\")\n",
    "\n",
    "    keypoints = Keypoints(0, 0, 0, 0, 0 ,0 ,0 ,0 ,0 ,0 ,0 ,0, 0)\n",
    "    for point in points:\n",
    "        point_id = int(point.attrib[\"label\"])\n",
    "        x, y = point.attrib[\"points\"].split(\",\")\n",
    "        if point_id in datasetKeypoints:\n",
    "            setattr(keypoints, datasetKeypoints[point_id], Landmark(x=float(x), y=float(y)))\n",
    "    dataset.update({image.attrib[\"name\"]: keypoints})\n",
    "\n",
    "    # Store image dimensions\n",
    "    imageDimensions.update({image.attrib[\"name\"]: (int(image.attrib[\"width\"]), int(image.attrib[\"height\"]) )})\n",
    "\n",
    "'''\n",
    "Created a dictionary to store keypoints.\n",
    "Format: {image_name: Keypoints}\n",
    "Keypoints is our own Keypoints object.\n",
    "'''"
   ]
  },
  {
   "cell_type": "code",
   "execution_count": 4,
   "metadata": {},
   "outputs": [
    {
     "name": "stderr",
     "output_type": "stream",
     "text": [
      "WARNING: All log messages before absl::InitializeLog() is called are written to STDERR\n",
      "I0000 00:00:1711385739.014489       1 gl_context.cc:344] GL version: 2.1 (2.1 Metal - 83.1), renderer: Apple M1\n",
      "INFO: Created TensorFlow Lite XNNPACK delegate for CPU.\n"
     ]
    }
   ],
   "source": [
    "'''\n",
    "Setup Media Pipe\n",
    "'''\n",
    "import mediapipe as mp\n",
    "from pose_estimation.mediapipe import MediaPipe\n",
    "from mediapipe.tasks.python import vision\n",
    "\n",
    "media_pipe = MediaPipe()\n",
    "media_pipe.initialize(mode=vision.RunningMode.IMAGE, parameter_path=\"../pose_landmarker_full.task\")"
   ]
  },
  {
   "cell_type": "markdown",
   "metadata": {},
   "source": [
    "Functions to test images"
   ]
  },
  {
   "cell_type": "code",
   "execution_count": 86,
   "metadata": {},
   "outputs": [],
   "source": [
    "from timeit import timeit\n",
    "import cv2\n",
    "\n",
    "def imageInfrence(image):\n",
    "    \"\"\"\n",
    "    process image using mediapipe\n",
    "    return tine taken and the keypoints\n",
    "    \"\"\"\n",
    "    start = timeit()\n",
    "    keypoints =  media_pipe.process_image(image)\n",
    "    end = timeit()\n",
    "\n",
    "    time = end - start\n",
    "    return keypoints, time\n",
    "\n",
    "def compareKeypoints(correctKeypoints: Keypoints, estimatedKeypoints: Keypoints, dimensions: tuple[int,int]):\n",
    "    \"\"\"\n",
    "    compare keypoints and return the mean squared error\n",
    "    \"\"\"\n",
    "    correctKeypointsArray = correctKeypoints.to_numpy_positions()\n",
    "    estimatedKeypointsArray = estimatedKeypoints.to_numpy_positions()\n",
    "\n",
    "    #normalise correct keypoints by image dimensions\n",
    "    correctKeypointsArray[:,0] = correctKeypointsArray[:,0] / dimensions[0]\n",
    "    correctKeypointsArray[:,1] = correctKeypointsArray[:,1] / dimensions[1]\n",
    "\n",
    "    keypointDiffs = correctKeypointsArray - estimatedKeypointsArray\n",
    "    keypointDiffs = np.linalg.norm(keypointDiffs, axis=1)\n",
    "\n",
    "    mse = np.square(keypointDiffs).mean()\n",
    "    return mse\n",
    "\n",
    "def testImage(image_filename, image_keypoints, resolution_scale=1.0):\n",
    "    \"\"\"\n",
    "    test and image based on resolution\n",
    "    return mean squared error and time taken to process image\n",
    "    \n",
    "    :param image_filename: name of the image file\n",
    "    :param image_keypoints: correct keypoints\n",
    "    :param resolution_scale: scale to resize image\n",
    "    \"\"\"\n",
    "    \n",
    "    # use cv2 to get image\n",
    "    image = cv2.imread(\"dataset/\" + image_filename)\n",
    "\n",
    "    # resize image by resolution scale\n",
    "    # TODO: currently resizes by scale\n",
    "    #       can change to resize by width or height\n",
    "    image = cv2.resize(image, (0,0), fx=resolution_scale, fy=resolution_scale)\n",
    "\n",
    "    # convert image to mediapipe image\n",
    "    image = mp.Image(image_format=mp.ImageFormat.SRGB, data=image)\n",
    "\n",
    "    correctKeypoints = image_keypoints\n",
    "    estimatedKeypoints, time = imageInfrence(image)\n",
    "\n",
    "    mse = compareKeypoints(correctKeypoints, estimatedKeypoints, imageDimensions[image_filename])\n",
    "    return mse, time\n",
    "\n",
    "\n"
   ]
  },
  {
   "cell_type": "markdown",
   "metadata": {},
   "source": [
    "Construct pd dataframe"
   ]
  },
  {
   "cell_type": "code",
   "execution_count": 101,
   "metadata": {},
   "outputs": [
    {
     "name": "stdout",
     "output_type": "stream",
     "text": [
      "   mean time  mean mse  resolution\n",
      "0   0.000025  0.014067        0.25\n",
      "1   0.000025  0.014067        0.50\n",
      "2   0.000025  0.014067        0.75\n",
      "3   0.000025  0.014067        1.00\n",
      "4   0.000025  0.014067        1.25\n",
      "5   0.000025  0.014067        1.50\n",
      "6   0.000025  0.014067        1.75\n",
      "7   0.000025  0.014067        2.00\n"
     ]
    }
   ],
   "source": [
    "resolutions = [0.25, 0.5, 0.75, 1.0, 1.25, 1.5, 1.75, 2.0]\n",
    "images_to_skip = [\"PE/4.jpg\", \"PE/8.jpg\", \"PE/18.jpg\"]\n",
    "\n",
    "data = {}\n",
    "data_with_times = {\"resolution\" : resolutions}\n",
    "\n",
    "\n",
    "# Test all images\n",
    "for res in resolutions:\n",
    "    mses = []\n",
    "    times = []\n",
    "    for image_name, image_keypoints in dataset.items():\n",
    "        # skip these images\n",
    "        if image_name in images_to_skip:\n",
    "            continue\n",
    "        mse, time = testImage(image_name, image_keypoints, 1)\n",
    "        mses.append(mse)\n",
    "        times.append(time)\n",
    "\n",
    "    data[res] = mses\n",
    "\n",
    "    data_with_times[\"mean time\"] = np.mean(times)\n",
    "    data_with_times[\"mean mse\"] = np.mean(mses)\n",
    "\n",
    "df = pd.DataFrame(data, index = [image_name for image_name in dataset.keys() if image_name not in images_to_skip])\n",
    "df_with_times = pd.DataFrame(data_with_times)\n",
    "\n",
    "print(df_with_times)\n"
   ]
  }
 ],
 "metadata": {
  "kernelspec": {
   "display_name": "sdpQA",
   "language": "python",
   "name": "python3"
  },
  "language_info": {
   "codemirror_mode": {
    "name": "ipython",
    "version": 3
   },
   "file_extension": ".py",
   "mimetype": "text/x-python",
   "name": "python",
   "nbconvert_exporter": "python",
   "pygments_lexer": "ipython3",
   "version": "3.11.7"
  }
 },
 "nbformat": 4,
 "nbformat_minor": 2
}
