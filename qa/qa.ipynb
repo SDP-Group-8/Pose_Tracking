{
 "cells": [
  {
   "cell_type": "code",
   "execution_count": 13,
   "metadata": {},
   "outputs": [],
   "source": [
    "import numpy as np # linear algebra\n",
    "import pandas as pd\n",
    "import xml.etree.ElementTree as ET\n",
    "from pose_estimation.keypoints import Keypoints\n",
    "from mediapipe.tasks.python.components.containers.landmark import Landmark\n",
    "import mediapipe as mp"
   ]
  },
  {
   "cell_type": "code",
   "execution_count": 14,
   "metadata": {},
   "outputs": [
    {
     "data": {
      "text/plain": [
       "'\\nCreated a dictionary to store keypoints.\\nFormat: {image_name: Keypoints}\\nKeypoints is our own Keypoints object.\\n'"
      ]
     },
     "execution_count": 14,
     "metadata": {},
     "output_type": "execute_result"
    }
   ],
   "source": [
    "# Read XML File\n",
    "xml_file = 'dataset/annotations.xml'\n",
    "tree = ET.parse(xml_file)\n",
    "root = tree.getroot()\n",
    "\n",
    "dataset = {}\n",
    "\n",
    "# Keypoint mapping from dataset numbers in annotations.xml to body part names used in Keypoints\n",
    "datasetKeypoints = {\n",
    "            5 : \"left_shoulder\",\n",
    "            2 : \"right_shoulder\",\n",
    "            6 : \"left_elbow\",\n",
    "            3 : \"right_elbow\",\n",
    "            7 : \"left_wrist\",\n",
    "            4 : \"right_wrist\",\n",
    "            11 : \"left_hip\",\n",
    "            8 : \"right_hip\",\n",
    "            12 : \"left_knee\",\n",
    "            9 : \"right_knee\",\n",
    "            13 : \"left_ankle\",\n",
    "            10 : \"right_ankle\"\n",
    "        }\n",
    "\n",
    "images = root.findall(\"image\")\n",
    "for image in images:\n",
    "    points = image.findall(\"points\")\n",
    "    keypoints = Keypoints(0, 0, 0, 0, 0 ,0 ,0 ,0 ,0 ,0 ,0 ,0, 0)\n",
    "    for point in points:\n",
    "        point_id = int(point.attrib[\"label\"])\n",
    "        x, y = point.attrib[\"points\"].split(\",\")\n",
    "        if point_id in datasetKeypoints:\n",
    "            setattr(keypoints, datasetKeypoints[point_id], Landmark(x=float(x), y=float(y)))\n",
    "    dataset.update({image.attrib[\"name\"]: keypoints})\n",
    "\n",
    "'''\n",
    "Created a dictionary to store keypoints.\n",
    "Format: {image_name: Keypoints}\n",
    "Keypoints is our own Keypoints object.\n",
    "'''"
   ]
  },
  {
   "cell_type": "code",
   "execution_count": 15,
   "metadata": {},
   "outputs": [],
   "source": [
    "'''\n",
    "Setup Media Pipe\n",
    "'''\n",
    "import mediapipe as mp\n",
    "from pose_estimation.mediapipe import MediaPipe\n",
    "from mediapipe.tasks.python import vision\n",
    "\n",
    "media_pipe = MediaPipe()\n",
    "media_pipe.initialize(mode=vision.RunningMode.IMAGE, parameter_path=\"/workspaces/Pose_Tracking/pose_landmarker_full.task\")"
   ]
  },
  {
   "cell_type": "code",
   "execution_count": 32,
   "metadata": {},
   "outputs": [],
   "source": [
    "def testImage(image_filename, image_keypoints):\n",
    "    image = mp.Image.create_from_file(\"dataset/\" + image_filename)\n",
    "    estimatedKeypoints = media_pipe.process_image(image)\n",
    "    correctKeypoints = image_keypoints\n",
    "    estimatedKeypointsArray = estimatedKeypoints.to_numpy_positions()\n",
    "    correctKeypointsArray = correctKeypoints.to_numpy_positions()\n",
    "    for i in range(0, len(estimatedKeypointsArray)):\n",
    "        print(\"Difference: \", compareKeypoints(estimatedKeypointsArray[i], correctKeypointsArray[i]))\n",
    "\n",
    "def compareKeypoints(NormalizedLandmark1, NormalizedLandmark2):\n",
    "    # TODO Implement this function\n",
    "    return 0"
   ]
  }
 ],
 "metadata": {
  "kernelspec": {
   "display_name": "sdpQA",
   "language": "python",
   "name": "python3"
  },
  "language_info": {
   "codemirror_mode": {
    "name": "ipython",
    "version": 3
   },
   "file_extension": ".py",
   "mimetype": "text/x-python",
   "name": "python",
   "nbconvert_exporter": "python",
   "pygments_lexer": "ipython3",
   "version": "3.10.13"
  }
 },
 "nbformat": 4,
 "nbformat_minor": 2
}
